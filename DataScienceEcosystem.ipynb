{
 "cells": [
  {
   "cell_type": "markdown",
   "id": "52bbd7e1-0aab-48dc-8aa6-25ec8b9cc939",
   "metadata": {},
   "source": [
    "# Data Science Tools and Ecosystem"
   ]
  },
  {
   "cell_type": "markdown",
   "id": "d8164a75-14ff-4202-8a8b-fb80269b8584",
   "metadata": {},
   "source": [
    "In this notebook, Data Science Tools and Ecosystem are summarized."
   ]
  },
  {
   "cell_type": "markdown",
   "id": "69f7e6bf-db50-45a4-ab3b-7c7ab929f9c1",
   "metadata": {},
   "source": [
    "**Objectives**\n",
    "- Popular Data Science Tools\n",
    "- Popular Data Science Languages\n",
    "- Popular Data Science Libraries\n",
    "- Insert Comments\n",
    "- Evaluate arithmetic expressions"
   ]
  },
  {
   "cell_type": "markdown",
   "id": "92c48b6e-2110-47b7-9c80-41fa04291c34",
   "metadata": {},
   "source": [
    "Some of the popular languages that Data Scientists use are:\n",
    "   1. Java\n",
    "   2. C++\n",
    "   3. Python\n",
    "   4. Apache Spark"
   ]
  },
  {
   "cell_type": "markdown",
   "id": "93e67abb-3a31-4f2e-9fe4-57f9012f5951",
   "metadata": {},
   "source": [
    "Some of the commonly used libraries used by Data Scientists include:\n",
    "   1. Keras\n",
    "   2. Numpy\n",
    "   3. Pandas\n",
    "   4. MatplotLib"
   ]
  },
  {
   "cell_type": "markdown",
   "id": "052648be-c8b4-429a-8816-6a2e8cd63bc1",
   "metadata": {},
   "source": [
    "|Data Science Tools|\n",
    "|:----:|\n",
    "| RStudio |\n",
    "| Jupyter Notebook |\n",
    "| GitHGub |\n",
    "| Spyder |\n",
    "| Anaconda |"
   ]
  },
  {
   "cell_type": "markdown",
   "id": "e266fc66-6a8e-4e2d-a2d3-51e2069e5da3",
   "metadata": {},
   "source": [
    "### Below are a few examples of evaluating arithmetic expressions in Python."
   ]
  },
  {
   "cell_type": "code",
   "execution_count": 1,
   "id": "26ddae55-afae-4ef1-9dbc-7d2adf3a48fd",
   "metadata": {},
   "outputs": [
    {
     "data": {
      "text/plain": [
       "17"
      ]
     },
     "execution_count": 1,
     "metadata": {},
     "output_type": "execute_result"
    }
   ],
   "source": [
    "# this a simple arithmetic expression to mutiply then add integers\n",
    "(3*4)+5"
   ]
  },
  {
   "cell_type": "code",
   "execution_count": 1,
   "id": "78c38679-7200-4d73-8854-b812da104d4d",
   "metadata": {},
   "outputs": [
    {
     "data": {
      "text/plain": [
       "3.3333333333333335"
      ]
     },
     "execution_count": 1,
     "metadata": {},
     "output_type": "execute_result"
    }
   ],
   "source": [
    "# This will convert 200 minutes to hours by diving by 60\n",
    "200/60"
   ]
  },
  {
   "cell_type": "markdown",
   "id": "099f8dc3-fab3-438a-b811-89db9ebb5a90",
   "metadata": {},
   "source": [
    "## Author\n",
    " Ahmed Siddiqui"
   ]
  },
  {
   "cell_type": "code",
   "execution_count": null,
   "id": "66b23852-ce5b-48c7-b536-06114b1a2601",
   "metadata": {},
   "outputs": [],
   "source": []
  }
 ],
 "metadata": {
  "kernelspec": {
   "display_name": "Python 3 (ipykernel)",
   "language": "python",
   "name": "python3"
  },
  "language_info": {
   "codemirror_mode": {
    "name": "ipython",
    "version": 3
   },
   "file_extension": ".py",
   "mimetype": "text/x-python",
   "name": "python",
   "nbconvert_exporter": "python",
   "pygments_lexer": "ipython3",
   "version": "3.11.7"
  }
 },
 "nbformat": 4,
 "nbformat_minor": 5
}
